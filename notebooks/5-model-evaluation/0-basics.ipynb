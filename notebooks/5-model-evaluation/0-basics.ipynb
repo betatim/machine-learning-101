{
 "cells": [
  {
   "cell_type": "markdown",
   "metadata": {},
   "source": [
    "# Model Evaluation"
   ]
  },
  {
   "cell_type": "markdown",
   "metadata": {},
   "source": [
    "## Analyse des gelernten Modells\n",
    "\n",
    "* Test des gelernten Modells auf bisher ungesehenen Testdaten\n",
    "* Vergleich der Performance von verschiedenen Modellen"
   ]
  },
  {
   "cell_type": "markdown",
   "metadata": {},
   "source": [
    "## Performance-Maße"
   ]
  },
  {
   "cell_type": "markdown",
   "metadata": {},
   "source": [
    "### Confusion Matrix & Accuracy"
   ]
  },
  {
   "cell_type": "markdown",
   "metadata": {},
   "source": [
    "![Confusion Matrix](../images/confusion_matrix.png)"
   ]
  },
  {
   "cell_type": "markdown",
   "metadata": {},
   "source": [
    "### Precision, Recall, F1-Score & Support\n",
    "\n",
    "Intuitiv ist \"precision\" (Genauigkeit) die Fähigkeit des Klassifikators, eine Probe, die negativ ist, nicht als positiv zu kennzeichnen. \"Recall\" ist die Fähigkeit des Klassifikators, alle positiven Proben zu finden.\n",
    "\n",
    "Das F-Maß kann als gewichtetes harmonisches Mittel zwischen \"precision\" und \"recall\" interpretiert werden. \n",
    "Der F1-Score erreicht seinen besten Wert bei 1 und seinen schlechtesten Wert bei 0.\n",
    "\n",
    "`F1 = 2 * (precision * recall)/(precision + recall)`\n",
    "\n",
    "Die \"support\" (Unterstützung) ist die Anzahl der Vorkommen jeder Klasse in der Testmenge."
   ]
  },
  {
   "cell_type": "markdown",
   "metadata": {},
   "source": [
    "![Precision & Recall](../images/precision-recall.png)"
   ]
  },
  {
   "cell_type": "markdown",
   "metadata": {},
   "source": [
    "### Accuracy vs. Precision"
   ]
  },
  {
   "cell_type": "markdown",
   "metadata": {},
   "source": [
    "![Precision vs. Recall](../images/precision_vs_accuracy.png)"
   ]
  },
  {
   "cell_type": "markdown",
   "metadata": {},
   "source": [
    "Quelle: [https://sites.google.com/a/apaches.k12.in.us/mr-evans-science-website/accuracy-vs-precision](https://sites.google.com/a/apaches.k12.in.us/mr-evans-science-website/accuracy-vs-precision)"
   ]
  },
  {
   "cell_type": "markdown",
   "metadata": {},
   "source": [
    "Mehr Informationen finden Sie unter [Precision-Recall](http://scikit-learn.org/stable/auto_examples/model_selection/plot_precision_recall.html)."
   ]
  },
  {
   "cell_type": "markdown",
   "metadata": {},
   "source": [
    "## Cross Validation\n",
    "\n",
    "* Split der Daten in Training, Validation und Test Set\n",
    "* Random Sampling kann ungünstige Aufteilungen erzeugen\n",
    "* Lösung: mehrere Durchläufe von Training und Test, z.B. mit k-fold"
   ]
  },
  {
   "cell_type": "markdown",
   "metadata": {},
   "source": [
    "## Cross Validation mit k-fold\n",
    "\n",
    "* Aufteilung der gesamten Datenmenge in k Teilmengen (folds)\n",
    "* Nutzung von 1 fold für Test und restlichen k - 1 folds für Training \n",
    "* Berechnung des arithmetischen Mittels des gewählten Performance-Maßes über alle Durchläufe"
   ]
  },
  {
   "cell_type": "markdown",
   "metadata": {},
   "source": [
    "![k-fold cross validation with k=4](../images/k_fold_cross_validation.png)\n",
    "\n",
    "Quelle: [Predictive modeling, supervised machine learning, and pattern classification - the big picture](https://github.com/rasbt/pattern_classification/blob/master/machine_learning/supervised_intro/introduction_to_supervised_machine_learning.md)"
   ]
  }
 ],
 "metadata": {
  "hide_input": false,
  "kernelspec": {
   "display_name": "Python 3",
   "language": "python",
   "name": "python3"
  },
  "language_info": {
   "codemirror_mode": {
    "name": "ipython",
    "version": 3
   },
   "file_extension": ".py",
   "mimetype": "text/x-python",
   "name": "python",
   "nbconvert_exporter": "python",
   "pygments_lexer": "ipython3",
   "version": "3.6.5"
  }
 },
 "nbformat": 4,
 "nbformat_minor": 2
}
